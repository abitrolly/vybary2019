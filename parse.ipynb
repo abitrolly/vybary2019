{
 "cells": [
  {
   "cell_type": "code",
   "execution_count": 2,
   "metadata": {},
   "outputs": [],
   "source": [
    "import requests\n",
    "import pandas as pd\n",
    "from bs4 import BeautifulSoup"
   ]
  },
  {
   "cell_type": "code",
   "execution_count": 110,
   "metadata": {},
   "outputs": [],
   "source": [
    "def parse_candidate_page(candidate_url):\n",
    "    response = requests.get(candidate_url)\n",
    "    content = response.content.decode('utf-8')\n",
    "    \n",
    "    parser = BeautifulSoup(content, \"html.parser\")\n",
    "    element = parser.findAll(class_='well bio')\n",
    "    \n",
    "    return element[0].text.strip()"
   ]
  },
  {
   "cell_type": "code",
   "execution_count": 73,
   "metadata": {},
   "outputs": [],
   "source": [
    "def parse_region_page(region_url):\n",
    "    response = requests.get(region_url)\n",
    "    content = response.content.decode('utf-8')\n",
    "    \n",
    "    \n",
    "    \n",
    "    parser = BeautifulSoup(content.replace('<br>',' ').replace('<br />',' '), \"html.parser\")\n",
    "    table = parser.findAll('table', class_='initiative table table-hover')\n",
    "\n",
    "\n",
    "    return res"
   ]
  },
  {
   "cell_type": "code",
   "execution_count": 101,
   "metadata": {},
   "outputs": [],
   "source": [
    "def parse_candidate_html(candidate_html):\n",
    "    candidate_fields = [i.text.strip() for i in candidate.find_all('td')]\n",
    "    candidate_url = 'http://vybary2019.by' + candidate.find(class_='ca7').attrs['href']\n",
    "    candidate_region = int(candidate_url.split('/')[-1].split('.')[0].split('-')[0])\n",
    "    name = None\n",
    "    birth_year = None\n",
    "    job = None\n",
    "    gang = None\n",
    "    city = None\n",
    "    try:\n",
    "        name = candidate_fields[0]\n",
    "        birth_year = candidate_fields[1]\n",
    "        job = candidate_fields[2]\n",
    "        gang = candidate_fields[3]\n",
    "        city = candidate_fields[4]\n",
    "    except IndexError:\n",
    "        print(candidate_url)\n",
    "        \n",
    "    return [candidate_region,candidate_url,name,birth_year,job,gang,city]"
   ]
  },
  {
   "cell_type": "code",
   "execution_count": 75,
   "metadata": {},
   "outputs": [],
   "source": [
    "region_list = []\n",
    "for i in range(1,111):\n",
    "    url = f'http://vybary2019.by/regions/{i}.html'\n",
    "    if requests.get(url).ok:\n",
    "        region_list.append(url)"
   ]
  },
  {
   "cell_type": "code",
   "execution_count": 103,
   "metadata": {},
   "outputs": [
    {
     "name": "stdout",
     "output_type": "stream",
     "text": [
      "http://vybary2019.by/candidates/001-2.html\n"
     ]
    }
   ],
   "source": [
    "candidates = []\n",
    "for region in region_list:\n",
    "    response = requests.get(region)\n",
    "    content = response.content.decode('utf-8')\n",
    "    parser = BeautifulSoup(content.replace('<br>',' ').replace('<br />',' '), \"html.parser\")\n",
    "    table = parser.findAll('table', class_='initiative table table-hover')[0]\n",
    "    candidates_html = table.find_all('tr')[1:]\n",
    "    for candidate in candidates_html:\n",
    "        candidates.append(parse_candidate_html(candidate))\n",
    "        "
   ]
  },
  {
   "cell_type": "code",
   "execution_count": 105,
   "metadata": {},
   "outputs": [],
   "source": [
    "candidates_df = pd.DataFrame(candidates)"
   ]
  },
  {
   "cell_type": "code",
   "execution_count": 111,
   "metadata": {},
   "outputs": [],
   "source": [
    "candidates_df['info'] = candidates_df[1].apply(parse_candidate_page)"
   ]
  },
  {
   "cell_type": "code",
   "execution_count": 120,
   "metadata": {},
   "outputs": [],
   "source": [
    "candidates_df.rename(columns={0:'region#',1:'url',2:'name',3:'birth',4:'job',5:'party',6:'initiative_type'})\n",
    "candidates_df.to_csv('candidates_info.csv',index=False)"
   ]
  }
 ],
 "metadata": {
  "kernelspec": {
   "display_name": "Python 3",
   "language": "python",
   "name": "python3"
  },
  "language_info": {
   "codemirror_mode": {
    "name": "ipython",
    "version": 3
   },
   "file_extension": ".py",
   "mimetype": "text/x-python",
   "name": "python",
   "nbconvert_exporter": "python",
   "pygments_lexer": "ipython3",
   "version": "3.7.4"
  }
 },
 "nbformat": 4,
 "nbformat_minor": 4
}

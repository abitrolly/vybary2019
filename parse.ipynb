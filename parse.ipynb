{
 "cells": [
  {
   "cell_type": "code",
   "execution_count": 5,
   "metadata": {},
   "outputs": [],
   "source": [
    "import requests\n",
    "import pandas as pd\n",
    "from bs4 import BeautifulSoup"
   ]
  },
  {
   "cell_type": "code",
   "execution_count": 16,
   "metadata": {},
   "outputs": [],
   "source": [
    "response = requests.get('http://vybary2019.by/candidates/105-1.html')"
   ]
  },
  {
   "cell_type": "code",
   "execution_count": 32,
   "metadata": {},
   "outputs": [],
   "source": [
    "requests.encoding = 'utf-8'\n",
    "content = response.content.decode('utf-8')"
   ]
  },
  {
   "cell_type": "code",
   "execution_count": 44,
   "metadata": {},
   "outputs": [],
   "source": [
    "soup = BeautifulSoup(content, \"html.parser\")\n",
    "element = soup.findAll(class_='well bio')"
   ]
  },
  {
   "cell_type": "code",
   "execution_count": 61,
   "metadata": {},
   "outputs": [],
   "source": [
    "def parse_candidate_page(candidate_url):\n",
    "    response = requests.get(candidate_url)\n",
    "    content = response.content.decode('utf-8')\n",
    "    \n",
    "    parser = BeautifulSoup(content, \"html.parser\")\n",
    "    element = soup.findAll(class_='well bio')\n",
    "    \n",
    "    return element[0].text.strip()"
   ]
  },
  {
   "cell_type": "code",
   "execution_count": 462,
   "metadata": {},
   "outputs": [],
   "source": [
    "def parse_region_page(region_url):\n",
    "    response = requests.get(region_url)\n",
    "    content = response.content.decode('utf-8')\n",
    "    \n",
    "    \n",
    "    \n",
    "    parser = BeautifulSoup(content.replace('<br>',' ').replace('<br />',' '), \"html.parser\")\n",
    "    table = parser.findAll('table', class_='initiative table table-hover')\n",
    "    \n",
    "    data = []\n",
    "    for a in table[0].find_all('tr'):\n",
    "        data.append([i for i in a.find_all('td')])\n",
    "    \n",
    "    region = region_url.split('/')[-1].split('.')[0]\n",
    "    contacts = [i for i in parser.find_all('p') if 'Контакты' in str(i)][0].text.strip().replace('\\r','').replace('\\n','').replace('\\t','').split(':')[1]\n",
    "    peoples_count = parser.find('p',class_='region-peoples').text.strip().replace('\\r','').replace('\\n','').replace('\\t','')\n",
    "    region = parser.find('p',class_='region-place').text.strip().replace('\\r','').replace('\\n','').replace('\\t','')\n",
    "    \n",
    "    [i.append(contacts) for i in data]\n",
    "    [i.append(peoples_count) for i in data]\n",
    "    [i.append(region) for i in data]\n",
    "    \n",
    "    result = []\n",
    "    for i in data[1:]:\n",
    "        print(f\"http://vybary2019.by{i[0].contents[1].attrs['href']}\")\n",
    "        \n",
    "    \n",
    "    return data[1:],"
   ]
  },
  {
   "cell_type": "code",
   "execution_count": 463,
   "metadata": {},
   "outputs": [],
   "source": [
    "region_list = []\n",
    "for i in range(1,110):\n",
    "    url = f'http://vybary2019.by/regions/{i}.html'\n",
    "    if requests.get(url).ok:\n",
    "        region_list.append(url)\n",
    "    \n",
    "\n"
   ]
  },
  {
   "cell_type": "code",
   "execution_count": 402,
   "metadata": {},
   "outputs": [],
   "source": [
    "\n",
    "data = []\n",
    "for region in region_list:\n",
    "    for i in parse_region_page(region):\n",
    "        data.extend(i)"
   ]
  },
  {
   "cell_type": "code",
   "execution_count": 464,
   "metadata": {},
   "outputs": [],
   "source": [
    "region_url = 'http://vybary2019.by/regions/49.html'\n",
    "response = requests.get(region_url)\n",
    "content = response.content.decode('utf-8')\n",
    "    \n",
    "region = region_url.split('/')[-1].split('.')[0]\n",
    "    \n",
    "parser = BeautifulSoup(content.replace('<br>',' ').replace('<br />',' '), \"html.parser\")\n",
    "data = []\n",
    "table = parser.findAll('table', class_='initiative table table-hover')\n",
    "\n",
    "data = []\n",
    "for a in table[0].find_all('tr'):\n",
    "    data.append([i for i in a.find_all('td')])\n",
    "\n",
    "contacts = [i for i in parser.find_all('p') if 'Контакты' in str(i)][0].text.strip().replace('\\r','').replace('\\n','').replace('\\t','').split(':')[1]\n",
    "peoples_count = parser.find('p',class_='region-peoples').text.strip().replace('\\r','').replace('\\n','').replace('\\t','')\n",
    "region = parser.find('p',class_='region-place').text.strip().replace('\\r','').replace('\\n','').replace('\\t','')"
   ]
  },
  {
   "cell_type": "code",
   "execution_count": 444,
   "metadata": {},
   "outputs": [
    {
     "data": {
      "text/plain": [
       "'/candidates/049-1.html'"
      ]
     },
     "execution_count": 444,
     "metadata": {},
     "output_type": "execute_result"
    }
   ],
   "source": [
    "data[1][0].contents[1].attrs['href']"
   ]
  },
  {
   "cell_type": "code",
   "execution_count": 461,
   "metadata": {},
   "outputs": [
    {
     "name": "stdout",
     "output_type": "stream",
     "text": [
      "http://vybary2019.by/candidates/049-1.html\n",
      "http://vybary2019.by/candidates/049-2.html\n",
      "http://vybary2019.by/candidates/049-3.html\n",
      "http://vybary2019.by/candidates/049-4.html\n",
      "http://vybary2019.by/candidates/049-5.html\n"
     ]
    }
   ],
   "source": [
    "for i in data[1:]:\n",
    "    print(f\"http://vybary2019.by{i[0].contents[1].attrs['href']}\")"
   ]
  },
  {
   "cell_type": "code",
   "execution_count": 489,
   "metadata": {},
   "outputs": [],
   "source": [
    "response = requests.get(region_url)\n",
    "content = response.content.decode('utf-8')\n",
    "\n",
    "\n",
    "\n",
    "parser = BeautifulSoup(content.replace('<br>',' ').replace('<br />',' '), \"html.parser\")\n",
    "table = parser.findAll('table', class_='initiative table table-hover')\n",
    "\n",
    "data = []\n",
    "for a in table[0].find_all('tr'):\n",
    "    data.append([i for i in a.find_all('td')])\n",
    "\n",
    "region = region_url.split('/')[-1].split('.')[0]\n",
    "contacts = [i for i in parser.find_all('p') if 'Контакты' in str(i)][0].text.strip().replace('\\r','').replace('\\n','').replace('\\t','').split(':')[1]\n",
    "peoples_count = parser.find('p',class_='region-peoples').text.strip().replace('\\r','').replace('\\n','').replace('\\t','')\n",
    "region = parser.find('p',class_='region-place').text.strip().replace('\\r','').replace('\\n','').replace('\\t','')\n",
    "\n",
    "[i.append(contacts) for i in data]\n",
    "[i.append(peoples_count) for i in data]\n",
    "[i.append(region) for i in data]\n",
    "\n",
    "result = []\n",
    "for i in data[1:]:\n",
    "    tmp = []\n",
    "    tmp.extend(i)\n",
    "    tmp.append(f\"http://vybary2019.by{i[0].contents[1].attrs['href']}\")\n",
    "    result.append(tmp)\n",
    "    \n",
    "    \n",
    "    \n",
    "    "
   ]
  },
  {
   "cell_type": "code",
   "execution_count": 495,
   "metadata": {},
   "outputs": [
    {
     "data": {
      "text/plain": [
       "'\\nГОСТЯЕВА Жанна Михайловна\\n'"
      ]
     },
     "execution_count": 495,
     "metadata": {},
     "output_type": "execute_result"
    }
   ],
   "source": [
    "result[0][0].text"
   ]
  },
  {
   "cell_type": "code",
   "execution_count": null,
   "metadata": {},
   "outputs": [],
   "source": []
  }
 ],
 "metadata": {
  "kernelspec": {
   "display_name": "Python 3",
   "language": "python",
   "name": "python3"
  },
  "language_info": {
   "codemirror_mode": {
    "name": "ipython",
    "version": 3
   },
   "file_extension": ".py",
   "mimetype": "text/x-python",
   "name": "python",
   "nbconvert_exporter": "python",
   "pygments_lexer": "ipython3",
   "version": "3.7.4"
  }
 },
 "nbformat": 4,
 "nbformat_minor": 4
}

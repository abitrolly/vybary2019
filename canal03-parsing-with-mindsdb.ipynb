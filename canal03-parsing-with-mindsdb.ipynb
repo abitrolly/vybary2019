{
 "cells": [
  {
   "cell_type": "code",
   "execution_count": 13,
   "metadata": {
    "colab": {
     "base_uri": "https://localhost:8080/",
     "height": 1000
    },
    "colab_type": "code",
    "id": "Amp-VoGkPA7w",
    "outputId": "075f6545-5843-4e6e-9f30-ad90a28696bc"
   },
   "outputs": [
    {
     "name": "stdout",
     "output_type": "stream",
     "text": [
      "Requirement already satisfied: mindsdb in /usr/local/lib/python3.6/dist-packages (1.7.9)\n",
      "Requirement already satisfied: cython>=0.29.2 in /usr/local/lib/python3.6/dist-packages (from mindsdb) (0.29.14)\n",
      "Requirement already satisfied: wheel>=0.32.2 in /usr/local/lib/python3.6/dist-packages (from mindsdb) (0.33.6)\n",
      "Requirement already satisfied: numpy>=1.15.2 in /usr/local/lib/python3.6/dist-packages (from mindsdb) (1.17.4)\n",
      "Requirement already satisfied: requests>=2.20.0 in /usr/local/lib/python3.6/dist-packages (from mindsdb) (2.21.0)\n",
      "Requirement already satisfied: pandas>=0.23.4 in /usr/local/lib/python3.6/dist-packages (from mindsdb) (0.25.3)\n",
      "Requirement already satisfied: scipy>=1.1.0 in /usr/local/lib/python3.6/dist-packages (from mindsdb) (1.3.2)\n",
      "Requirement already satisfied: scikit-learn>=0.20.3 in /usr/local/lib/python3.6/dist-packages (from mindsdb) (0.21.3)\n",
      "Requirement already satisfied: colorlog>=4.0.2 in /usr/local/lib/python3.6/dist-packages (from mindsdb) (4.0.2)\n",
      "Requirement already satisfied: xlrd>=1.0.0 in /usr/local/lib/python3.6/dist-packages (from mindsdb) (1.1.0)\n",
      "Requirement already satisfied: ImageHash==4.0 in /usr/local/lib/python3.6/dist-packages (from mindsdb) (4.0)\n",
      "Requirement already satisfied: imageio==2.5.0 in /usr/local/lib/python3.6/dist-packages (from mindsdb) (2.5.0)\n",
      "Requirement already satisfied: lightwood>=0.10.2 in /usr/local/lib/python3.6/dist-packages (from mindsdb) (0.11.3)\n",
      "Requirement already satisfied: ludwig==0.2.1 in /usr/local/lib/python3.6/dist-packages (from mindsdb) (0.2.1)\n",
      "Requirement already satisfied: scikit-image==0.14.2 in /usr/local/lib/python3.6/dist-packages (from mindsdb) (0.14.2)\n",
      "Requirement already satisfied: setuptools>=21.2.1 in /usr/local/lib/python3.6/dist-packages (from mindsdb) (41.4.0)\n",
      "Requirement already satisfied: pytz>=2018.5 in /usr/local/lib/python3.6/dist-packages (from mindsdb) (2018.9)\n",
      "Requirement already satisfied: attrs>=18.2.0 in /usr/local/lib/python3.6/dist-packages (from mindsdb) (19.3.0)\n",
      "Requirement already satisfied: python-dateutil>=2.7.3 in /usr/local/lib/python3.6/dist-packages (from mindsdb) (2.8.1)\n",
      "Requirement already satisfied: tensorflow==1.14.0 in /usr/local/lib/python3.6/dist-packages (from mindsdb) (1.14.0)\n",
      "Requirement already satisfied: idna<2.9,>=2.5 in /usr/local/lib/python3.6/dist-packages (from requests>=2.20.0->mindsdb) (2.8)\n",
      "Requirement already satisfied: certifi>=2017.4.17 in /usr/local/lib/python3.6/dist-packages (from requests>=2.20.0->mindsdb) (2019.9.11)\n",
      "Requirement already satisfied: urllib3<1.25,>=1.21.1 in /usr/local/lib/python3.6/dist-packages (from requests>=2.20.0->mindsdb) (1.24.3)\n",
      "Requirement already satisfied: chardet<3.1.0,>=3.0.2 in /usr/local/lib/python3.6/dist-packages (from requests>=2.20.0->mindsdb) (3.0.4)\n",
      "Requirement already satisfied: joblib>=0.11 in /usr/local/lib/python3.6/dist-packages (from scikit-learn>=0.20.3->mindsdb) (0.14.0)\n",
      "Requirement already satisfied: six in /usr/local/lib/python3.6/dist-packages (from ImageHash==4.0->mindsdb) (1.12.0)\n",
      "Requirement already satisfied: pywavelets in /usr/local/lib/python3.6/dist-packages (from ImageHash==4.0->mindsdb) (1.1.1)\n",
      "Requirement already satisfied: pillow in /usr/local/lib/python3.6/dist-packages (from ImageHash==4.0->mindsdb) (4.3.0)\n",
      "Requirement already satisfied: dill>=0.2.9 in /usr/local/lib/python3.6/dist-packages (from lightwood>=0.10.2->mindsdb) (0.3.1.1)\n",
      "Requirement already satisfied: torchvision>=0.4 in /usr/local/lib/python3.6/dist-packages (from lightwood>=0.10.2->mindsdb) (0.4.2+cu100)\n",
      "Requirement already satisfied: NLTK>=3 in /usr/local/lib/python3.6/dist-packages (from lightwood>=0.10.2->mindsdb) (3.2.5)\n",
      "Requirement already satisfied: torch>=1.2.0 in /usr/local/lib/python3.6/dist-packages (from lightwood>=0.10.2->mindsdb) (1.3.1+cu100)\n",
      "Requirement already satisfied: dask<2.4.0,>=1.0.0 in /usr/local/lib/python3.6/dist-packages (from lightwood>=0.10.2->mindsdb) (1.1.5)\n",
      "Requirement already satisfied: cesium>=0.9.9 in /usr/local/lib/python3.6/dist-packages (from lightwood>=0.10.2->mindsdb) (0.9.9)\n",
      "Requirement already satisfied: ax-platform>=0.1.3 in /usr/local/lib/python3.6/dist-packages (from lightwood>=0.10.2->mindsdb) (0.1.6)\n",
      "Requirement already satisfied: pyro-ppl>=0.4.1 in /usr/local/lib/python3.6/dist-packages (from lightwood>=0.10.2->mindsdb) (0.5.1)\n",
      "Requirement already satisfied: schema>=0.6.8 in /usr/local/lib/python3.6/dist-packages (from lightwood>=0.10.2->mindsdb) (0.7.1)\n",
      "Requirement already satisfied: h5py>=2.6 in /usr/local/lib/python3.6/dist-packages (from ludwig==0.2.1->mindsdb) (2.8.0)\n",
      "Requirement already satisfied: absl-py in /usr/local/lib/python3.6/dist-packages (from ludwig==0.2.1->mindsdb) (0.8.1)\n",
      "Requirement already satisfied: tabulate>=0.7 in /usr/local/lib/python3.6/dist-packages (from ludwig==0.2.1->mindsdb) (0.8.5)\n",
      "Requirement already satisfied: tqdm in /usr/local/lib/python3.6/dist-packages (from ludwig==0.2.1->mindsdb) (4.28.1)\n",
      "Requirement already satisfied: PyYAML>=3.12 in /usr/local/lib/python3.6/dist-packages (from ludwig==0.2.1->mindsdb) (3.13)\n",
      "Requirement already satisfied: cloudpickle>=0.2.1 in /usr/local/lib/python3.6/dist-packages (from scikit-image==0.14.2->mindsdb) (1.2.2)\n",
      "Requirement already satisfied: networkx>=1.8 in /usr/local/lib/python3.6/dist-packages (from scikit-image==0.14.2->mindsdb) (2.4)\n",
      "Requirement already satisfied: matplotlib>=2.0.0 in /usr/local/lib/python3.6/dist-packages (from scikit-image==0.14.2->mindsdb) (3.1.1)\n",
      "Requirement already satisfied: tensorboard<1.15.0,>=1.14.0 in /usr/local/lib/python3.6/dist-packages (from tensorflow==1.14.0->mindsdb) (1.14.0)\n",
      "Requirement already satisfied: keras-applications>=1.0.6 in /usr/local/lib/python3.6/dist-packages (from tensorflow==1.14.0->mindsdb) (1.0.8)\n",
      "Requirement already satisfied: google-pasta>=0.1.6 in /usr/local/lib/python3.6/dist-packages (from tensorflow==1.14.0->mindsdb) (0.1.8)\n",
      "Requirement already satisfied: grpcio>=1.8.6 in /usr/local/lib/python3.6/dist-packages (from tensorflow==1.14.0->mindsdb) (1.15.0)\n",
      "Requirement already satisfied: keras-preprocessing>=1.0.5 in /usr/local/lib/python3.6/dist-packages (from tensorflow==1.14.0->mindsdb) (1.1.0)\n",
      "Requirement already satisfied: termcolor>=1.1.0 in /usr/local/lib/python3.6/dist-packages (from tensorflow==1.14.0->mindsdb) (1.1.0)\n",
      "Requirement already satisfied: gast>=0.2.0 in /usr/local/lib/python3.6/dist-packages (from tensorflow==1.14.0->mindsdb) (0.2.2)\n",
      "Requirement already satisfied: protobuf>=3.6.1 in /usr/local/lib/python3.6/dist-packages (from tensorflow==1.14.0->mindsdb) (3.10.0)\n",
      "Requirement already satisfied: astor>=0.6.0 in /usr/local/lib/python3.6/dist-packages (from tensorflow==1.14.0->mindsdb) (0.8.0)\n",
      "Requirement already satisfied: tensorflow-estimator<1.15.0rc0,>=1.14.0rc0 in /usr/local/lib/python3.6/dist-packages (from tensorflow==1.14.0->mindsdb) (1.14.0)\n",
      "Requirement already satisfied: wrapt>=1.11.1 in /usr/local/lib/python3.6/dist-packages (from tensorflow==1.14.0->mindsdb) (1.11.2)\n",
      "Requirement already satisfied: olefile in /usr/local/lib/python3.6/dist-packages (from pillow->ImageHash==4.0->mindsdb) (0.46)\n",
      "Requirement already satisfied: toolz in /usr/local/lib/python3.6/dist-packages (from cesium>=0.9.9->lightwood>=0.10.2->mindsdb) (0.10.0)\n",
      "Requirement already satisfied: gatspy>=0.3.0 in /usr/local/lib/python3.6/dist-packages (from cesium>=0.9.9->lightwood>=0.10.2->mindsdb) (0.3)\n",
      "Requirement already satisfied: sklearn in /usr/local/lib/python3.6/dist-packages (from ax-platform>=0.1.3->lightwood>=0.10.2->mindsdb) (0.0)\n",
      "Requirement already satisfied: plotly in /usr/local/lib/python3.6/dist-packages (from ax-platform>=0.1.3->lightwood>=0.10.2->mindsdb) (4.1.1)\n",
      "Requirement already satisfied: jinja2 in /usr/local/lib/python3.6/dist-packages (from ax-platform>=0.1.3->lightwood>=0.10.2->mindsdb) (2.10.3)\n",
      "Requirement already satisfied: botorch>=0.1.3 in /usr/local/lib/python3.6/dist-packages (from ax-platform>=0.1.3->lightwood>=0.10.2->mindsdb) (0.1.4)\n",
      "Requirement already satisfied: graphviz>=0.8 in /usr/local/lib/python3.6/dist-packages (from pyro-ppl>=0.4.1->lightwood>=0.10.2->mindsdb) (0.10.1)\n",
      "Requirement already satisfied: opt-einsum>=2.3.2 in /usr/local/lib/python3.6/dist-packages (from pyro-ppl>=0.4.1->lightwood>=0.10.2->mindsdb) (3.1.0)\n",
      "Requirement already satisfied: pyro-api>=0.1.1 in /usr/local/lib/python3.6/dist-packages (from pyro-ppl>=0.4.1->lightwood>=0.10.2->mindsdb) (0.1.1)\n",
      "Requirement already satisfied: contextlib2==0.5.5 in /usr/local/lib/python3.6/dist-packages (from schema>=0.6.8->lightwood>=0.10.2->mindsdb) (0.5.5)\n",
      "Requirement already satisfied: decorator>=4.3.0 in /usr/local/lib/python3.6/dist-packages (from networkx>=1.8->scikit-image==0.14.2->mindsdb) (4.4.1)\n",
      "Requirement already satisfied: kiwisolver>=1.0.1 in /usr/local/lib/python3.6/dist-packages (from matplotlib>=2.0.0->scikit-image==0.14.2->mindsdb) (1.1.0)\n",
      "Requirement already satisfied: cycler>=0.10 in /usr/local/lib/python3.6/dist-packages (from matplotlib>=2.0.0->scikit-image==0.14.2->mindsdb) (0.10.0)\n",
      "Requirement already satisfied: pyparsing!=2.0.4,!=2.1.2,!=2.1.6,>=2.0.1 in /usr/local/lib/python3.6/dist-packages (from matplotlib>=2.0.0->scikit-image==0.14.2->mindsdb) (2.4.5)\n",
      "Requirement already satisfied: werkzeug>=0.11.15 in /usr/local/lib/python3.6/dist-packages (from tensorboard<1.15.0,>=1.14.0->tensorflow==1.14.0->mindsdb) (0.16.0)\n",
      "Requirement already satisfied: markdown>=2.6.8 in /usr/local/lib/python3.6/dist-packages (from tensorboard<1.15.0,>=1.14.0->tensorflow==1.14.0->mindsdb) (3.1.1)\n",
      "Requirement already satisfied: retrying>=1.3.3 in /usr/local/lib/python3.6/dist-packages (from plotly->ax-platform>=0.1.3->lightwood>=0.10.2->mindsdb) (1.3.3)\n",
      "Requirement already satisfied: MarkupSafe>=0.23 in /usr/local/lib/python3.6/dist-packages (from jinja2->ax-platform>=0.1.3->lightwood>=0.10.2->mindsdb) (1.1.1)\n",
      "Requirement already satisfied: gpytorch>=0.3.5 in /usr/local/lib/python3.6/dist-packages (from botorch>=0.1.3->ax-platform>=0.1.3->lightwood>=0.10.2->mindsdb) (0.3.6)\n"
     ]
    }
   ],
   "source": [
    "!pip install mindsdb\n",
    "import mindsdb"
   ]
  },
  {
   "cell_type": "code",
   "execution_count": 14,
   "metadata": {
    "colab": {
     "base_uri": "https://localhost:8080/",
     "height": 591
    },
    "colab_type": "code",
    "id": "UqCMgYH-A3dU",
    "outputId": "e08627ec-8285-4972-b5d0-b54d861a562b"
   },
   "outputs": [
    {
     "data": {
      "text/html": [
       "<div>\n",
       "<style scoped>\n",
       "    .dataframe tbody tr th:only-of-type {\n",
       "        vertical-align: middle;\n",
       "    }\n",
       "\n",
       "    .dataframe tbody tr th {\n",
       "        vertical-align: top;\n",
       "    }\n",
       "\n",
       "    .dataframe thead th {\n",
       "        text-align: right;\n",
       "    }\n",
       "</style>\n",
       "<table border=\"1\" class=\"dataframe\">\n",
       "  <thead>\n",
       "    <tr style=\"text-align: right;\">\n",
       "      <th></th>\n",
       "      <th>region#</th>\n",
       "      <th>url</th>\n",
       "      <th>name</th>\n",
       "      <th>birth_year</th>\n",
       "      <th>job</th>\n",
       "      <th>party</th>\n",
       "      <th>initiative_type</th>\n",
       "      <th>info</th>\n",
       "    </tr>\n",
       "  </thead>\n",
       "  <tbody>\n",
       "    <tr>\n",
       "      <th>0</th>\n",
       "      <td>1</td>\n",
       "      <td>http://vybary2019.by/candidates/001-1.html</td>\n",
       "      <td>БРИЧ \\r\\nЛеонид Григорьевич</td>\n",
       "      <td>1958</td>\n",
       "      <td>депутат Палаты представителей Национального со...</td>\n",
       "      <td>член Белорусской патриотической партии</td>\n",
       "      <td>политическая партия, трудовой коллектив, сбор ...</td>\n",
       "      <td>Родился 12 декабря 1958 года в д. Заплесье Дро...</td>\n",
       "    </tr>\n",
       "    <tr>\n",
       "      <th>1</th>\n",
       "      <td>1</td>\n",
       "      <td>http://vybary2019.by/candidates/001-2.html</td>\n",
       "      <td>КУРИЛОВИЧ \\r\\nВладимир Георгиевич</td>\n",
       "      <td>1981</td>\n",
       "      <td>директор ООО «Строймир Запад»</td>\n",
       "      <td>член Республиканской партии труда и справедлив...</td>\n",
       "      <td>NaN</td>\n",
       "      <td>Родился  21 сентября 1981 года в  городе  Брес...</td>\n",
       "    </tr>\n",
       "    <tr>\n",
       "      <th>2</th>\n",
       "      <td>2</td>\n",
       "      <td>http://vybary2019.by/candidates/002-1.html</td>\n",
       "      <td>ВАСЬКО\\r\\nМарина Викторовна</td>\n",
       "      <td>1975</td>\n",
       "      <td>заместитель директора по учебной работе ГУО «Г...</td>\n",
       "      <td>беспартийная</td>\n",
       "      <td>сбор подписей избирателей, трудовой коллектив</td>\n",
       "      <td>Родилась 1 мая  1975 года в г. Бресте. Белорус...</td>\n",
       "    </tr>\n",
       "    <tr>\n",
       "      <th>3</th>\n",
       "      <td>2</td>\n",
       "      <td>http://vybary2019.by/candidates/002-2.html</td>\n",
       "      <td>МАРЧЕНКО\\r\\nДмитрий Евгеньевич</td>\n",
       "      <td>1970</td>\n",
       "      <td>пенсионер по инвалидности</td>\n",
       "      <td>член партии «Белорусская социал-демократическа...</td>\n",
       "      <td>политическая партия</td>\n",
       "      <td>Родился 8 августа 1970 года в деревне Дедлово ...</td>\n",
       "    </tr>\n",
       "    <tr>\n",
       "      <th>4</th>\n",
       "      <td>2</td>\n",
       "      <td>http://vybary2019.by/candidates/002-3.html</td>\n",
       "      <td>ОМЕЛЬЯНЧУК\\r\\nИрина Николаевна</td>\n",
       "      <td>1960</td>\n",
       "      <td>инженер ОАО «Стройгаз г. Брест»</td>\n",
       "      <td>член Партии БНФ</td>\n",
       "      <td>политическая партия</td>\n",
       "      <td>Родилась 31 мая  1960 года. Белоруска. Образов...</td>\n",
       "    </tr>\n",
       "  </tbody>\n",
       "</table>\n",
       "</div>"
      ],
      "text/plain": [
       "   region#  ...                                               info\n",
       "0        1  ...  Родился 12 декабря 1958 года в д. Заплесье Дро...\n",
       "1        1  ...  Родился  21 сентября 1981 года в  городе  Брес...\n",
       "2        2  ...  Родилась 1 мая  1975 года в г. Бресте. Белорус...\n",
       "3        2  ...  Родился 8 августа 1970 года в деревне Дедлово ...\n",
       "4        2  ...  Родилась 31 мая  1960 года. Белоруска. Образов...\n",
       "\n",
       "[5 rows x 8 columns]"
      ]
     },
     "execution_count": 14,
     "metadata": {
      "tags": []
     },
     "output_type": "execute_result"
    }
   ],
   "source": [
    "import pandas as pd\n",
    "df = pd.read_csv('https://raw.githubusercontent.com/opendataby/vybary2019/master/dataset/candidates.csv')\n",
    "df.head()"
   ]
  },
  {
   "cell_type": "code",
   "execution_count": 0,
   "metadata": {
    "colab": {},
    "colab_type": "code",
    "id": "qHuAcrUvBIeO"
   },
   "outputs": [],
   "source": [
    "train = df.loc[:30, :]"
   ]
  },
  {
   "cell_type": "code",
   "execution_count": 16,
   "metadata": {
    "colab": {
     "base_uri": "https://localhost:8080/",
     "height": 1000
    },
    "colab_type": "code",
    "id": "LWaOj-fKPiGH",
    "outputId": "b0587d10-d446-4e15-934b-3c299524a276"
   },
   "outputs": [
    {
     "name": "stderr",
     "output_type": "stream",
     "text": [
      "\u001b[37mDEBUG:mindsdb-logger-core-logger:libs/helpers/general_helpers.py:63 - MindsDB is up to date!\n",
      "\u001b[0m\n",
      "\u001b[32mINFO:mindsdb-logger-c94260d8-0709-11ea-8428-0242ac1c0002:libs/phases/base_module.py:52 - [START] DataExtractor\n",
      "\u001b[0m\n",
      "\u001b[32mINFO:mindsdb-logger-c94260d8-0709-11ea-8428-0242ac1c0002:libs/phases/base_module.py:57 - [END] DataExtractor, execution time: 0.049 seconds\n",
      "\u001b[0m\n",
      "\u001b[32mINFO:mindsdb-logger-c94260d8-0709-11ea-8428-0242ac1c0002:libs/phases/base_module.py:52 - [START] StatsGenerator\n",
      "\u001b[0m\n",
      "\u001b[32mINFO:mindsdb-logger-c94260d8-0709-11ea-8428-0242ac1c0002:libs/phases/stats_generator/stats_generator.py:488 - population_size=31,  sample_size=31  100.00%\n",
      "\u001b[0m\n",
      "\u001b[33mWARNING:mindsdb-logger-c94260d8-0709-11ea-8428-0242ac1c0002:libs/phases/stats_generator/stats_generator.py:428 - Column region# is very biased towards the value 3.05, please make sure that the data in this column is correct !\n",
      "\u001b[0m\n",
      "\u001b[32mINFO:mindsdb-logger-c94260d8-0709-11ea-8428-0242ac1c0002:libs/phases/stats_generator/stats_generator.py:451 - Data distribution for column \"region#\"\n",
      "\u001b[0m\n",
      "\u001b[32mINFO:mindsdb-logger-c94260d8-0709-11ea-8428-0242ac1c0002:libs/data_types/mindsdb_logger.py:76 - ----------\n",
      "\u001b[0m\n",
      "\u001b[32mINFO:mindsdb-logger-c94260d8-0709-11ea-8428-0242ac1c0002:libs/data_types/mindsdb_logger.py:119 -  Int: 31\n",
      "\u001b[0m\n",
      "\u001b[32mINFO:mindsdb-logger-c94260d8-0709-11ea-8428-0242ac1c0002:libs/data_types/mindsdb_logger.py:123 - ----------\n",
      "\u001b[0m\n",
      "\u001b[33mWARNING:mindsdb-logger-c94260d8-0709-11ea-8428-0242ac1c0002:libs/phases/stats_generator/stats_generator.py:384 - The data in the column url seems to contain too much noise/randomness based on the value variability. That is to say, the data is too unevenly distributed and has too many outliers. Please see the detailed logs below for more info.\n",
      "\u001b[0m\n",
      "\u001b[32mINFO:mindsdb-logger-c94260d8-0709-11ea-8428-0242ac1c0002:libs/phases/stats_generator/stats_generator.py:451 - Data distribution for column \"url\"\n",
      "\u001b[0m\n",
      "\u001b[32mINFO:mindsdb-logger-c94260d8-0709-11ea-8428-0242ac1c0002:libs/data_types/mindsdb_logger.py:76 - ----------\n",
      "\u001b[0m\n",
      "\u001b[32mINFO:mindsdb-logger-c94260d8-0709-11ea-8428-0242ac1c0002:libs/data_types/mindsdb_logger.py:119 -  Category: 31\n",
      "\u001b[0m\n",
      "\u001b[32mINFO:mindsdb-logger-c94260d8-0709-11ea-8428-0242ac1c0002:libs/data_types/mindsdb_logger.py:123 - ----------\n",
      "\u001b[0m\n",
      "\u001b[33mWARNING:mindsdb-logger-c94260d8-0709-11ea-8428-0242ac1c0002:libs/phases/stats_generator/stats_generator.py:384 - The data in the column name seems to contain too much noise/randomness based on the value variability. That is to say, the data is too unevenly distributed and has too many outliers. Please see the detailed logs below for more info.\n",
      "\u001b[0m\n",
      "\u001b[32mINFO:mindsdb-logger-c94260d8-0709-11ea-8428-0242ac1c0002:libs/phases/stats_generator/stats_generator.py:451 - Data distribution for column \"name\"\n",
      "\u001b[0m\n",
      "\u001b[32mINFO:mindsdb-logger-c94260d8-0709-11ea-8428-0242ac1c0002:libs/data_types/mindsdb_logger.py:76 - ----------\n",
      "\u001b[0m\n",
      "\u001b[32mINFO:mindsdb-logger-c94260d8-0709-11ea-8428-0242ac1c0002:libs/data_types/mindsdb_logger.py:119 -  Text: 31\n",
      "\u001b[0m\n",
      "\u001b[32mINFO:mindsdb-logger-c94260d8-0709-11ea-8428-0242ac1c0002:libs/data_types/mindsdb_logger.py:123 - ----------\n",
      "\u001b[0m\n",
      "\u001b[33mWARNING:mindsdb-logger-c94260d8-0709-11ea-8428-0242ac1c0002:libs/phases/stats_generator/stats_generator.py:428 - Column birth_year is very biased towards the value 1980.82, please make sure that the data in this column is correct !\n",
      "\u001b[0m\n",
      "\u001b[32mINFO:mindsdb-logger-c94260d8-0709-11ea-8428-0242ac1c0002:libs/phases/stats_generator/stats_generator.py:451 - Data distribution for column \"birth_year\"\n",
      "\u001b[0m\n",
      "\u001b[32mINFO:mindsdb-logger-c94260d8-0709-11ea-8428-0242ac1c0002:libs/data_types/mindsdb_logger.py:76 - ----------\n",
      "\u001b[0m\n",
      "\u001b[32mINFO:mindsdb-logger-c94260d8-0709-11ea-8428-0242ac1c0002:libs/data_types/mindsdb_logger.py:119 -  Int: 31\n",
      "\u001b[0m\n",
      "\u001b[32mINFO:mindsdb-logger-c94260d8-0709-11ea-8428-0242ac1c0002:libs/data_types/mindsdb_logger.py:123 - ----------\n",
      "\u001b[0m\n",
      "\u001b[33mWARNING:mindsdb-logger-c94260d8-0709-11ea-8428-0242ac1c0002:libs/phases/stats_generator/stats_generator.py:384 - The data in the column job seems to contain too much noise/randomness based on the value variability. That is to say, the data is too unevenly distributed and has too many outliers. Please see the detailed logs below for more info.\n",
      "\u001b[0m\n",
      "\u001b[33mWARNING:mindsdb-logger-c94260d8-0709-11ea-8428-0242ac1c0002:libs/phases/stats_generator/stats_generator.py:428 - Column job is very biased towards the value по, please make sure that the data in this column is correct !\n",
      "\u001b[0m\n",
      "\u001b[32mINFO:mindsdb-logger-c94260d8-0709-11ea-8428-0242ac1c0002:libs/phases/stats_generator/stats_generator.py:451 - Data distribution for column \"job\"\n",
      "\u001b[0m\n",
      "\u001b[32mINFO:mindsdb-logger-c94260d8-0709-11ea-8428-0242ac1c0002:libs/data_types/mindsdb_logger.py:76 - ----------\n",
      "\u001b[0m\n",
      "\u001b[32mINFO:mindsdb-logger-c94260d8-0709-11ea-8428-0242ac1c0002:libs/data_types/mindsdb_logger.py:119 -  Text: 31\n",
      "\u001b[0m\n",
      "\u001b[32mINFO:mindsdb-logger-c94260d8-0709-11ea-8428-0242ac1c0002:libs/data_types/mindsdb_logger.py:123 - ----------\n",
      "\u001b[0m\n",
      "\u001b[33mWARNING:mindsdb-logger-c94260d8-0709-11ea-8428-0242ac1c0002:libs/phases/stats_generator/stats_generator.py:384 - The data in the column party seems to contain too much noise/randomness based on the value variability. That is to say, the data is too unevenly distributed and has too many outliers. Please see the detailed logs below for more info.\n",
      "\u001b[0m\n",
      "\u001b[33mWARNING:mindsdb-logger-c94260d8-0709-11ea-8428-0242ac1c0002:libs/phases/stats_generator/stats_generator.py:428 - Column party is very biased towards the value член, please make sure that the data in this column is correct !\n",
      "\u001b[0m\n",
      "\u001b[32mINFO:mindsdb-logger-c94260d8-0709-11ea-8428-0242ac1c0002:libs/phases/stats_generator/stats_generator.py:451 - Data distribution for column \"party\"\n",
      "\u001b[0m\n",
      "\u001b[32mINFO:mindsdb-logger-c94260d8-0709-11ea-8428-0242ac1c0002:libs/data_types/mindsdb_logger.py:76 - ----------\n",
      "\u001b[0m\n",
      "\u001b[32mINFO:mindsdb-logger-c94260d8-0709-11ea-8428-0242ac1c0002:libs/data_types/mindsdb_logger.py:119 -  Text: 31\n",
      "\u001b[0m\n",
      "\u001b[32mINFO:mindsdb-logger-c94260d8-0709-11ea-8428-0242ac1c0002:libs/data_types/mindsdb_logger.py:123 - ----------\n",
      "\u001b[0m\n",
      "\u001b[33mWARNING:mindsdb-logger-c94260d8-0709-11ea-8428-0242ac1c0002:libs/phases/stats_generator/stats_generator.py:384 - The data in the column initiative_type seems to contain too much noise/randomness based on the value variability. That is to say, the data is too unevenly distributed and has too many outliers. Please see the detailed logs below for more info.\n",
      "\u001b[0m\n",
      "\u001b[32mINFO:mindsdb-logger-c94260d8-0709-11ea-8428-0242ac1c0002:libs/phases/stats_generator/stats_generator.py:451 - Data distribution for column \"initiative_type\"\n",
      "\u001b[0m\n",
      "\u001b[32mINFO:mindsdb-logger-c94260d8-0709-11ea-8428-0242ac1c0002:libs/data_types/mindsdb_logger.py:76 - ----------\n",
      "\u001b[0m\n",
      "\u001b[32mINFO:mindsdb-logger-c94260d8-0709-11ea-8428-0242ac1c0002:libs/data_types/mindsdb_logger.py:119 -  Text: 30\n",
      "\u001b[0m\n",
      "\u001b[32mINFO:mindsdb-logger-c94260d8-0709-11ea-8428-0242ac1c0002:libs/data_types/mindsdb_logger.py:123 - ----------\n",
      "\u001b[0m\n",
      "\u001b[33mWARNING:mindsdb-logger-c94260d8-0709-11ea-8428-0242ac1c0002:libs/phases/stats_generator/stats_generator.py:384 - The data in the column info seems to contain too much noise/randomness based on the value variability. That is to say, the data is too unevenly distributed and has too many outliers. Please see the detailed logs below for more info.\n",
      "\u001b[0m\n",
      "\u001b[33mWARNING:mindsdb-logger-c94260d8-0709-11ea-8428-0242ac1c0002:libs/phases/stats_generator/stats_generator.py:428 - Column info is very biased towards the value в, please make sure that the data in this column is correct !\n",
      "\u001b[0m\n",
      "\u001b[32mINFO:mindsdb-logger-c94260d8-0709-11ea-8428-0242ac1c0002:libs/phases/stats_generator/stats_generator.py:451 - Data distribution for column \"info\"\n",
      "\u001b[0m\n",
      "\u001b[32mINFO:mindsdb-logger-c94260d8-0709-11ea-8428-0242ac1c0002:libs/data_types/mindsdb_logger.py:76 - ----------\n",
      "\u001b[0m\n",
      "\u001b[32mINFO:mindsdb-logger-c94260d8-0709-11ea-8428-0242ac1c0002:libs/data_types/mindsdb_logger.py:119 -  Text: 31\n",
      "\u001b[0m\n",
      "\u001b[32mINFO:mindsdb-logger-c94260d8-0709-11ea-8428-0242ac1c0002:libs/data_types/mindsdb_logger.py:123 - ----------\n",
      "\u001b[0m\n",
      "\u001b[32mINFO:mindsdb-logger-c94260d8-0709-11ea-8428-0242ac1c0002:libs/phases/base_module.py:57 - [END] StatsGenerator, execution time: 2.080 seconds\n",
      "\u001b[0m\n",
      "\u001b[32mINFO:mindsdb-logger-c94260d8-0709-11ea-8428-0242ac1c0002:libs/phases/base_module.py:52 - [START] DataSplitter\n",
      "\u001b[0m\n",
      "\u001b[32mINFO:mindsdb-logger-c94260d8-0709-11ea-8428-0242ac1c0002:libs/phases/data_splitter/data_splitter.py:114 - We have split the input data into:\n",
      "\u001b[0m\n",
      "\u001b[32mINFO:mindsdb-logger-c94260d8-0709-11ea-8428-0242ac1c0002:libs/phases/base_module.py:57 - [END] DataSplitter, execution time: 0.074 seconds\n",
      "\u001b[0m\n",
      "\u001b[32mINFO:mindsdb-logger-c94260d8-0709-11ea-8428-0242ac1c0002:libs/phases/base_module.py:52 - [START] DataTransformer\n",
      "\u001b[0m\n",
      "\u001b[32mINFO:mindsdb-logger-c94260d8-0709-11ea-8428-0242ac1c0002:libs/phases/base_module.py:57 - [END] DataTransformer, execution time: 0.052 seconds\n",
      "\u001b[0m\n",
      "\u001b[32mINFO:mindsdb-logger-c94260d8-0709-11ea-8428-0242ac1c0002:libs/phases/base_module.py:52 - [START] ModelInterface\n",
      "\u001b[0m\n"
     ]
    },
    {
     "name": "stdout",
     "output_type": "stream",
     "text": [
      "0m 1s (- 2056m 37s) (1 0%) 0.0052\n",
      "0m 1s (- 1982m 20s) (1 0%) 0.0066\n",
      "0m 1s (- 2144m 22s) (1 0%) 0.0043\n",
      "0m 1s (- 2110m 55s) (1 0%) 0.0034\n",
      "0m 2s (- 3625m 52s) (1 0%) 0.0089\n"
     ]
    },
    {
     "name": "stderr",
     "output_type": "stream",
     "text": [
      "\u001b[37mDEBUG:mindsdb-logger-c94260d8-0709-11ea-8428-0242ac1c0002:libs/backends/lightwood.py:154 - We've reached training epoch nr 200 with an r2 score of -4.736 on the testing dataset\n",
      "\u001b[0m\n",
      "\u001b[37mDEBUG:mindsdb-logger-c94260d8-0709-11ea-8428-0242ac1c0002:libs/backends/lightwood.py:154 - We've reached training epoch nr 400 with an r2 score of -2.272 on the testing dataset\n",
      "\u001b[0m\n",
      "\u001b[37mDEBUG:mindsdb-logger-c94260d8-0709-11ea-8428-0242ac1c0002:libs/backends/lightwood.py:154 - We've reached training epoch nr 600 with an r2 score of -1.918 on the testing dataset\n",
      "\u001b[0m\n",
      "\u001b[37mDEBUG:mindsdb-logger-c94260d8-0709-11ea-8428-0242ac1c0002:libs/backends/lightwood.py:154 - We've reached training epoch nr 800 with an r2 score of -1.885 on the testing dataset\n",
      "\u001b[0m\n",
      "\u001b[37mDEBUG:mindsdb-logger-c94260d8-0709-11ea-8428-0242ac1c0002:libs/backends/lightwood.py:154 - We've reached training epoch nr 1000 with an r2 score of -1.885 on the testing dataset\n",
      "\u001b[0m\n",
      "\u001b[37mDEBUG:mindsdb-logger-c94260d8-0709-11ea-8428-0242ac1c0002:libs/backends/lightwood.py:154 - We've reached training epoch nr 1200 with an r2 score of -1.966 on the testing dataset\n",
      "\u001b[0m\n",
      "\u001b[32mINFO:mindsdb-logger-c94260d8-0709-11ea-8428-0242ac1c0002:libs/backends/lightwood.py:195 - Training accuracy of: {'birth_year': {'function': 'r2_score', 'value': -1.8853589468633571}}\n",
      "\u001b[0m\n",
      "\u001b[32mINFO:mindsdb-logger-c94260d8-0709-11ea-8428-0242ac1c0002:libs/phases/base_module.py:57 - [END] ModelInterface, execution time: 73.486 seconds\n",
      "\u001b[0m\n",
      "\u001b[32mINFO:mindsdb-logger-c94260d8-0709-11ea-8428-0242ac1c0002:libs/phases/base_module.py:52 - [START] ModelAnalyzer\n",
      "\u001b[0m\n"
     ]
    },
    {
     "name": "stdout",
     "output_type": "stream",
     "text": [
      "Can't disable output on Jupyter notebook\n",
      "Can't disable output on Jupyter notebook\n",
      "Can't disable output on Jupyter notebook\n",
      "Can't disable output on Jupyter notebook\n",
      "Can't disable output on Jupyter notebook\n",
      "Can't disable output on Jupyter notebook\n",
      "Can't disable output on Jupyter notebook\n",
      "Can't disable output on Jupyter notebook\n",
      "Can't disable output on Jupyter notebook\n"
     ]
    },
    {
     "name": "stderr",
     "output_type": "stream",
     "text": [
      "/usr/local/lib/python3.6/dist-packages/scipy/stats/stats.py:2315: RuntimeWarning: invalid value encountered in true_divide\n",
      "  return (a - mns) / sstd\n",
      "/usr/local/lib/python3.6/dist-packages/sklearn/neighbors/lof.py:253: UserWarning: n_neighbors (20) is greater than the total number of samples (1). n_neighbors will be set to (n_samples - 1) for estimation.\n",
      "  % (self.n_neighbors, n_samples))\n",
      "/usr/local/lib/python3.6/dist-packages/scipy/stats/stats.py:2315: RuntimeWarning: invalid value encountered in true_divide\n",
      "  return (a - mns) / sstd\n",
      "/usr/local/lib/python3.6/dist-packages/sklearn/neighbors/lof.py:253: UserWarning: n_neighbors (20) is greater than the total number of samples (1). n_neighbors will be set to (n_samples - 1) for estimation.\n",
      "  % (self.n_neighbors, n_samples))\n",
      "/usr/local/lib/python3.6/dist-packages/scipy/stats/stats.py:2315: RuntimeWarning: invalid value encountered in true_divide\n",
      "  return (a - mns) / sstd\n",
      "/usr/local/lib/python3.6/dist-packages/sklearn/neighbors/lof.py:253: UserWarning: n_neighbors (20) is greater than the total number of samples (1). n_neighbors will be set to (n_samples - 1) for estimation.\n",
      "  % (self.n_neighbors, n_samples))\n",
      "\u001b[32mINFO:mindsdb-logger-c94260d8-0709-11ea-8428-0242ac1c0002:libs/phases/base_module.py:57 - [END] ModelAnalyzer, execution time: 1.672 seconds\n",
      "\u001b[0m\n"
     ]
    }
   ],
   "source": [
    "from mindsdb import *\n",
    "\n",
    "# First we initiate MindsDB\n",
    "mdb = MindsDB(name=\"candiyear\")\n",
    "\n",
    "# We tell mindsDB what we want to learn and from what data\n",
    "mdb.learn(\n",
    "    from_data=train,\n",
    "    to_predict='birth_year' # the column we want to learn to predict given all the data in the file\n",
    ")"
   ]
  },
  {
   "cell_type": "code",
   "execution_count": 17,
   "metadata": {
    "colab": {
     "base_uri": "https://localhost:8080/",
     "height": 159
    },
    "colab_type": "code",
    "id": "t2rEUVkpF7KX",
    "outputId": "9f157ee6-13f7-4e15-8dae-bdfb379f07e0"
   },
   "outputs": [
    {
     "data": {
      "text/plain": [
       "{'info': 'Родилась 30 апреля 1964 года в деревне Лесники Дрогичинского района Брестской области.\\nИмеет высшее образование. В 1993 году окончила юридический факультет Белорусского государственного университета. С 1991 года по 2019 год прошла служебный путь от следователя до заместителя начальника управления Следственного комитета Республики Беларусь по Брестской области. Имеет специальное звание «полковник юстиции в отставке». В настоящее время трудится в должности начальника отдела анализа практики и методического обеспечения предварительного расследования управления Следственного комитета Республики Беларусь по Брестской области. Указами Президента Республики Беларусь награждена медалями «За безупречную службу» 3, 2, 1 степеней. Имеет ряд наград от республиканских и местных государственных органов, в том числе Благодарственное письмо Президента Республики Беларусь, высшую награду Следственного комитета Республики Беларусь – нагрудный знак «За заслуги», в 2007 году Брестским областным исполнительным комитетом удостоена почетного звания «Человек года». Проживает в городе Бресте.\\nБеспартийная. Замужем, воспитала троих детей, имеет пять внуков.',\n",
       " 'initiative_type': 'сбор подписей избирателей',\n",
       " 'job': 'начальник отдела анализа практики и методического обеспечения предварительного расследования управления Следственного комитета Республики Беларусь по Брестской области',\n",
       " 'name': 'ЖОЛНЕРЧИК\\r\\nЛюдмила Николаевна',\n",
       " 'party': 'беспартийная',\n",
       " 'region#': 7,\n",
       " 'url': 'http://vybary2019.by/candidates/007-2.html'}"
      ]
     },
     "execution_count": 17,
     "metadata": {
      "tags": []
     },
     "output_type": "execute_result"
    }
   ],
   "source": [
    "when = dict(df.loc[32])\n",
    "del when['birth_year']\n",
    "when"
   ]
  },
  {
   "cell_type": "code",
   "execution_count": 19,
   "metadata": {
    "colab": {
     "base_uri": "https://localhost:8080/",
     "height": 367
    },
    "colab_type": "code",
    "id": "31OzKoauQnZf",
    "outputId": "e414714a-31ab-4a1a-e248-d5d99be1096d"
   },
   "outputs": [
    {
     "name": "stderr",
     "output_type": "stream",
     "text": [
      "\u001b[37mDEBUG:mindsdb-logger-core-logger:libs/helpers/general_helpers.py:63 - MindsDB is up to date!\n",
      "\u001b[0m\n",
      "\u001b[32mINFO:mindsdb-logger-core-logger:libs/phases/base_module.py:52 - [START] DataExtractor\n",
      "\u001b[0m\n",
      "\u001b[32mINFO:mindsdb-logger-core-logger:libs/phases/base_module.py:57 - [END] DataExtractor, execution time: 0.036 seconds\n",
      "\u001b[0m\n",
      "\u001b[32mINFO:mindsdb-logger-core-logger:libs/phases/base_module.py:52 - [START] DataSplitter\n",
      "\u001b[0m\n",
      "\u001b[32mINFO:mindsdb-logger-core-logger:libs/phases/base_module.py:57 - [END] DataSplitter, execution time: 0.035 seconds\n",
      "\u001b[0m\n",
      "\u001b[32mINFO:mindsdb-logger-core-logger:libs/phases/base_module.py:52 - [START] DataTransformer\n",
      "\u001b[0m\n",
      "\u001b[32mINFO:mindsdb-logger-core-logger:libs/phases/base_module.py:57 - [END] DataTransformer, execution time: 0.297 seconds\n",
      "\u001b[0m\n",
      "\u001b[32mINFO:mindsdb-logger-core-logger:libs/phases/base_module.py:52 - [START] ModelInterface\n",
      "\u001b[0m\n",
      "\u001b[32mINFO:mindsdb-logger-core-logger:libs/phases/base_module.py:57 - [END] ModelInterface, execution time: 0.215 seconds\n",
      "\u001b[0m\n"
     ]
    },
    {
     "data": {
      "text/plain": [
       "<mindsdb.libs.data_types.transaction_output_data.PredictTransactionOutputData at 0x7fe827724dd8>"
      ]
     },
     "execution_count": 19,
     "metadata": {
      "tags": []
     },
     "output_type": "execute_result"
    }
   ],
   "source": [
    "# use the model to make predictions\n",
    "mdb_predict = mindsdb.Predictor(name='candiyear')\n",
    "result = mdb_predict.predict(when=when)\n",
    "\n",
    "# you can now print the results\n",
    "#print('The predicted price is ${price} with {conf} confidence'.format(price=result[0]['rental_price'], conf=result[0]['rental_price_confidence']))\n",
    "result"
   ]
  },
  {
   "cell_type": "code",
   "execution_count": 20,
   "metadata": {
    "colab": {
     "base_uri": "https://localhost:8080/",
     "height": 34
    },
    "colab_type": "code",
    "id": "CGcPeh5YBGzR",
    "outputId": "6bcc63e1-d09f-4a8e-98e5-1dcf4a6e3e68"
   },
   "outputs": [
    {
     "data": {
      "text/plain": [
       "mindsdb.libs.data_types.transaction_output_data.PredictTransactionOutputData"
      ]
     },
     "execution_count": 20,
     "metadata": {
      "tags": []
     },
     "output_type": "execute_result"
    }
   ],
   "source": [
    "type(result)"
   ]
  },
  {
   "cell_type": "code",
   "execution_count": 21,
   "metadata": {
    "colab": {
     "base_uri": "https://localhost:8080/",
     "height": 34
    },
    "colab_type": "code",
    "id": "jqHX599mHM1C",
    "outputId": "99cb8b92-9702-4b28-8176-1fb3074ad6ae"
   },
   "outputs": [
    {
     "data": {
      "text/plain": [
       "<mindsdb.libs.data_types.transaction_output_row.TransactionOutputRow at 0x7fe78968bdd8>"
      ]
     },
     "execution_count": 21,
     "metadata": {
      "tags": []
     },
     "output_type": "execute_result"
    }
   ],
   "source": [
    "result[0]"
   ]
  },
  {
   "cell_type": "code",
   "execution_count": 22,
   "metadata": {
    "colab": {
     "base_uri": "https://localhost:8080/",
     "height": 677
    },
    "colab_type": "code",
    "id": "fFiA9reqHOy0",
    "outputId": "b6a1b7bd-7591-4c63-a83c-ce178296526e"
   },
   "outputs": [
    {
     "data": {
      "text/plain": [
       "['__class__',\n",
       " '__contains__',\n",
       " '__delattr__',\n",
       " '__dict__',\n",
       " '__dir__',\n",
       " '__doc__',\n",
       " '__eq__',\n",
       " '__format__',\n",
       " '__ge__',\n",
       " '__getattribute__',\n",
       " '__getitem__',\n",
       " '__gt__',\n",
       " '__hash__',\n",
       " '__init__',\n",
       " '__init_subclass__',\n",
       " '__le__',\n",
       " '__lt__',\n",
       " '__module__',\n",
       " '__ne__',\n",
       " '__new__',\n",
       " '__reduce__',\n",
       " '__reduce_ex__',\n",
       " '__repr__',\n",
       " '__setattr__',\n",
       " '__sizeof__',\n",
       " '__str__',\n",
       " '__subclasshook__',\n",
       " '__weakref__',\n",
       " '_predicted_values',\n",
       " 'as_dict',\n",
       " 'as_list',\n",
       " 'col_stats',\n",
       " 'data',\n",
       " 'epitomize',\n",
       " 'evaluations',\n",
       " 'explain',\n",
       " 'row_index',\n",
       " 'transaction_output']"
      ]
     },
     "execution_count": 22,
     "metadata": {
      "tags": []
     },
     "output_type": "execute_result"
    }
   ],
   "source": [
    "dir(result[0])"
   ]
  },
  {
   "cell_type": "code",
   "execution_count": 25,
   "metadata": {
    "colab": {
     "base_uri": "https://localhost:8080/",
     "height": 34
    },
    "colab_type": "code",
    "id": "7W4AVA7HHXYv",
    "outputId": "b1550d49-cb5b-4e1f-be6c-006f24316077"
   },
   "outputs": [
    {
     "data": {
      "text/plain": [
       "1957.3600000000001"
      ]
     },
     "execution_count": 25,
     "metadata": {
      "tags": []
     },
     "output_type": "execute_result"
    }
   ],
   "source": [
    "result[0]['birth_year']"
   ]
  },
  {
   "cell_type": "code",
   "execution_count": 27,
   "metadata": {
    "colab": {
     "base_uri": "https://localhost:8080/",
     "height": 34
    },
    "colab_type": "code",
    "id": "C4n1skltHyGv",
    "outputId": "ee7b47fd-371f-49c8-91a5-6d264d55eeb8"
   },
   "outputs": [
    {
     "data": {
      "text/plain": [
       "0.3333333333333329"
      ]
     },
     "execution_count": 27,
     "metadata": {
      "tags": []
     },
     "output_type": "execute_result"
    }
   ],
   "source": [
    "result[0]['birth_year_confidence']"
   ]
  },
  {
   "cell_type": "code",
   "execution_count": 28,
   "metadata": {
    "colab": {
     "base_uri": "https://localhost:8080/",
     "height": 54
    },
    "colab_type": "code",
    "id": "F25sO4z5HcPa",
    "outputId": "ca27c053-3147-42fb-8436-1d757582bd66"
   },
   "outputs": [
    {
     "data": {
      "text/plain": [
       "'Родилась 30 апреля 1964 года в деревне Лесники Дрогичинского района Брестской области.\\nИмеет высшее образование. В 1993 году окончила юридический факультет Белорусского государственного университета. С 1991 года по 2019 год прошла служебный путь от следователя до заместителя начальника управления Следственного комитета Республики Беларусь по Брестской области. Имеет специальное звание «полковник юстиции в отставке». В настоящее время трудится в должности начальника отдела анализа практики и методического обеспечения предварительного расследования управления Следственного комитета Республики Беларусь по Брестской области. Указами Президента Республики Беларусь награждена медалями «За безупречную службу» 3, 2, 1 степеней. Имеет ряд наград от республиканских и местных государственных органов, в том числе Благодарственное письмо Президента Республики Беларусь, высшую награду Следственного комитета Республики Беларусь – нагрудный знак «За заслуги», в 2007 году Брестским областным исполнительным комитетом удостоена почетного звания «Человек года». Проживает в городе Бресте.\\nБеспартийная. Замужем, воспитала троих детей, имеет пять внуков.'"
      ]
     },
     "execution_count": 28,
     "metadata": {
      "tags": []
     },
     "output_type": "execute_result"
    }
   ],
   "source": [
    "result[0]['info']\n"
   ]
  },
  {
   "cell_type": "code",
   "execution_count": 0,
   "metadata": {
    "colab": {},
    "colab_type": "code",
    "id": "xKPNGC74HwUn"
   },
   "outputs": [],
   "source": []
  }
 ],
 "metadata": {
  "accelerator": "TPU",
  "colab": {
   "collapsed_sections": [],
   "name": "mindsDB.ipynb",
   "provenance": []
  },
  "kernelspec": {
   "display_name": "Python 3",
   "language": "python",
   "name": "python3"
  },
  "language_info": {
   "codemirror_mode": {
    "name": "ipython",
    "version": 3
   },
   "file_extension": ".py",
   "mimetype": "text/x-python",
   "name": "python",
   "nbconvert_exporter": "python",
   "pygments_lexer": "ipython3",
   "version": "3.7.5"
  }
 },
 "nbformat": 4,
 "nbformat_minor": 1
}

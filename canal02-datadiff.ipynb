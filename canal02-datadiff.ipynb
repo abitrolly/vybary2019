{
 "cells": [
  {
   "cell_type": "code",
   "execution_count": 1,
   "metadata": {},
   "outputs": [],
   "source": [
    "import pandas as pd"
   ]
  },
  {
   "cell_type": "markdown",
   "metadata": {},
   "source": [
    "#### Количество кандидатов\n",
    "\n",
    "Правильное число 518. Это данные из автопарсера на день выборов."
   ]
  },
  {
   "cell_type": "code",
   "execution_count": 2,
   "metadata": {},
   "outputs": [
    {
     "data": {
      "text/plain": [
       "(1985, 14)"
      ]
     },
     "execution_count": 2,
     "metadata": {},
     "output_type": "execute_result"
    }
   ],
   "source": [
    "df1_train = pd.read_csv('https://github.com/ushchent/el_machina/raw/master/data/train.csv')\n",
    "df1_train.shape"
   ]
  },
  {
   "cell_type": "code",
   "execution_count": 3,
   "metadata": {},
   "outputs": [
    {
     "data": {
      "text/plain": [
       "(526, 16)"
      ]
     },
     "execution_count": 3,
     "metadata": {},
     "output_type": "execute_result"
    }
   ],
   "source": [
    "df1_test = pd.read_csv('https://github.com/ushchent/el_machina/raw/master/data/test.csv')\n",
    "df1_test.shape"
   ]
  },
  {
   "cell_type": "code",
   "execution_count": 4,
   "metadata": {},
   "outputs": [
    {
     "data": {
      "text/plain": [
       "(524, 19)"
      ]
     },
     "execution_count": 4,
     "metadata": {},
     "output_type": "execute_result"
    }
   ],
   "source": [
    "df2 = pd.read_csv('excel/belarus-elections-2019.csv')\n",
    "df2.shape"
   ]
  },
  {
   "cell_type": "code",
   "execution_count": 5,
   "metadata": {},
   "outputs": [
    {
     "data": {
      "text/plain": [
       "(518, 8)"
      ]
     },
     "execution_count": 5,
     "metadata": {},
     "output_type": "execute_result"
    }
   ],
   "source": [
    "df3 = pd.read_csv('dataset/candidates.csv')\n",
    "df3.shape"
   ]
  },
  {
   "cell_type": "markdown",
   "metadata": {},
   "source": [
    "#### Поля"
   ]
  },
  {
   "cell_type": "code",
   "execution_count": 6,
   "metadata": {},
   "outputs": [
    {
     "data": {
      "text/html": [
       "<div>\n",
       "<style scoped>\n",
       "    .dataframe tbody tr th:only-of-type {\n",
       "        vertical-align: middle;\n",
       "    }\n",
       "\n",
       "    .dataframe tbody tr th {\n",
       "        vertical-align: top;\n",
       "    }\n",
       "\n",
       "    .dataframe thead th {\n",
       "        text-align: right;\n",
       "    }\n",
       "</style>\n",
       "<table border=\"1\" class=\"dataframe\">\n",
       "  <thead>\n",
       "    <tr style=\"text-align: right;\">\n",
       "      <th></th>\n",
       "      <th>df1_train</th>\n",
       "      <th>df1_test</th>\n",
       "      <th>df2</th>\n",
       "      <th>df3</th>\n",
       "    </tr>\n",
       "  </thead>\n",
       "  <tbody>\n",
       "    <tr>\n",
       "      <td>0</td>\n",
       "      <td>region</td>\n",
       "      <td>fio</td>\n",
       "      <td>name</td>\n",
       "      <td>region#</td>\n",
       "    </tr>\n",
       "    <tr>\n",
       "      <td>1</td>\n",
       "      <td>fio</td>\n",
       "      <td>pol</td>\n",
       "      <td>lastName</td>\n",
       "      <td>url</td>\n",
       "    </tr>\n",
       "    <tr>\n",
       "      <td>2</td>\n",
       "      <td>pol</td>\n",
       "      <td>born</td>\n",
       "      <td>firstName</td>\n",
       "      <td>name</td>\n",
       "    </tr>\n",
       "    <tr>\n",
       "      <td>3</td>\n",
       "      <td>born</td>\n",
       "      <td>dolzhnost</td>\n",
       "      <td>middleName</td>\n",
       "      <td>birth_year</td>\n",
       "    </tr>\n",
       "    <tr>\n",
       "      <td>4</td>\n",
       "      <td>info</td>\n",
       "      <td>deputat_ppns</td>\n",
       "      <td>sex</td>\n",
       "      <td>job</td>\n",
       "    </tr>\n",
       "    <tr>\n",
       "      <td>5</td>\n",
       "      <td>deputat_ppns</td>\n",
       "      <td>party</td>\n",
       "      <td>alreadyInParliament</td>\n",
       "      <td>party</td>\n",
       "    </tr>\n",
       "    <tr>\n",
       "      <td>6</td>\n",
       "      <td>party</td>\n",
       "      <td>vydvinut</td>\n",
       "      <td>birthDate</td>\n",
       "      <td>initiative_type</td>\n",
       "    </tr>\n",
       "    <tr>\n",
       "      <td>7</td>\n",
       "      <td>place</td>\n",
       "      <td>place</td>\n",
       "      <td>jobTitle</td>\n",
       "      <td>info</td>\n",
       "    </tr>\n",
       "    <tr>\n",
       "      <td>8</td>\n",
       "      <td>okrug</td>\n",
       "      <td>page_id</td>\n",
       "      <td>partyRaw</td>\n",
       "      <td>NaN</td>\n",
       "    </tr>\n",
       "    <tr>\n",
       "      <td>9</td>\n",
       "      <td>n_okrug</td>\n",
       "      <td>n_okrug</td>\n",
       "      <td>party</td>\n",
       "      <td>NaN</td>\n",
       "    </tr>\n",
       "    <tr>\n",
       "      <td>10</td>\n",
       "      <td>campaign</td>\n",
       "      <td>bio</td>\n",
       "      <td>promotionType</td>\n",
       "      <td>NaN</td>\n",
       "    </tr>\n",
       "    <tr>\n",
       "      <td>11</td>\n",
       "      <td>status</td>\n",
       "      <td>campaign</td>\n",
       "      <td>homeAddressRaw</td>\n",
       "      <td>NaN</td>\n",
       "    </tr>\n",
       "    <tr>\n",
       "      <td>12</td>\n",
       "      <td>comment</td>\n",
       "      <td>status</td>\n",
       "      <td>homeAddress</td>\n",
       "      <td>NaN</td>\n",
       "    </tr>\n",
       "    <tr>\n",
       "      <td>13</td>\n",
       "      <td>vydvinut</td>\n",
       "      <td>dr</td>\n",
       "      <td>candidateDetailsUrl</td>\n",
       "      <td>NaN</td>\n",
       "    </tr>\n",
       "    <tr>\n",
       "      <td>14</td>\n",
       "      <td>NaN</td>\n",
       "      <td>dr_parsed</td>\n",
       "      <td>electionDistrict</td>\n",
       "      <td>NaN</td>\n",
       "    </tr>\n",
       "    <tr>\n",
       "      <td>15</td>\n",
       "      <td>NaN</td>\n",
       "      <td>zodiac</td>\n",
       "      <td>electionDistrictNumber</td>\n",
       "      <td>NaN</td>\n",
       "    </tr>\n",
       "    <tr>\n",
       "      <td>16</td>\n",
       "      <td>NaN</td>\n",
       "      <td>NaN</td>\n",
       "      <td>electionDistrictCapacity</td>\n",
       "      <td>NaN</td>\n",
       "    </tr>\n",
       "    <tr>\n",
       "      <td>17</td>\n",
       "      <td>NaN</td>\n",
       "      <td>NaN</td>\n",
       "      <td>electionDistrictCandidates</td>\n",
       "      <td>NaN</td>\n",
       "    </tr>\n",
       "    <tr>\n",
       "      <td>18</td>\n",
       "      <td>NaN</td>\n",
       "      <td>NaN</td>\n",
       "      <td>electionDistrictRegion</td>\n",
       "      <td>NaN</td>\n",
       "    </tr>\n",
       "  </tbody>\n",
       "</table>\n",
       "</div>"
      ],
      "text/plain": [
       "       df1_train      df1_test                         df2              df3\n",
       "0         region           fio                        name          region#\n",
       "1            fio           pol                    lastName              url\n",
       "2            pol          born                   firstName             name\n",
       "3           born     dolzhnost                  middleName       birth_year\n",
       "4           info  deputat_ppns                         sex              job\n",
       "5   deputat_ppns         party         alreadyInParliament            party\n",
       "6          party      vydvinut                   birthDate  initiative_type\n",
       "7          place         place                    jobTitle             info\n",
       "8          okrug       page_id                    partyRaw              NaN\n",
       "9        n_okrug       n_okrug                       party              NaN\n",
       "10      campaign           bio               promotionType              NaN\n",
       "11        status      campaign              homeAddressRaw              NaN\n",
       "12       comment        status                 homeAddress              NaN\n",
       "13      vydvinut            dr         candidateDetailsUrl              NaN\n",
       "14           NaN     dr_parsed            electionDistrict              NaN\n",
       "15           NaN        zodiac      electionDistrictNumber              NaN\n",
       "16           NaN           NaN    electionDistrictCapacity              NaN\n",
       "17           NaN           NaN  electionDistrictCandidates              NaN\n",
       "18           NaN           NaN      electionDistrictRegion              NaN"
      ]
     },
     "execution_count": 6,
     "metadata": {},
     "output_type": "execute_result"
    }
   ],
   "source": [
    "# using pd.Series to avoid 'ValueError: arrays must all be same length'\n",
    "fields = pd.DataFrame({\n",
    "    'df1_train': pd.Series(df1_train.columns),\n",
    "    'df1_test': pd.Series(df1_test.columns),\n",
    "    'df2': pd.Series(df2.columns),\n",
    "    'df3': pd.Series(df3.columns),\n",
    "})\n",
    "fields"
   ]
  },
  {
   "cell_type": "code",
   "execution_count": null,
   "metadata": {},
   "outputs": [],
   "source": []
  }
 ],
 "metadata": {
  "kernelspec": {
   "display_name": "Python 3",
   "language": "python",
   "name": "python3"
  },
  "language_info": {
   "codemirror_mode": {
    "name": "ipython",
    "version": 3
   },
   "file_extension": ".py",
   "mimetype": "text/x-python",
   "name": "python",
   "nbconvert_exporter": "python",
   "pygments_lexer": "ipython3",
   "version": "3.7.5"
  }
 },
 "nbformat": 4,
 "nbformat_minor": 2
}
